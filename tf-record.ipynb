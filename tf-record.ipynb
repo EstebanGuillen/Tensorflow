{
 "cells": [
  {
   "cell_type": "code",
   "execution_count": 1,
   "metadata": {
    "collapsed": false
   },
   "outputs": [
    {
     "name": "stderr",
     "output_type": "stream",
     "text": [
      "/Users/esteban/anaconda/lib/python3.5/importlib/_bootstrap.py:222: RuntimeWarning: compiletime version 3.6 of module 'tensorflow.python.framework.fast_tensor_util' does not match runtime version 3.5\n",
      "  return f(*args, **kwds)\n",
      "/Users/esteban/anaconda/lib/python3.5/site-packages/h5py/__init__.py:36: FutureWarning: Conversion of the second argument of issubdtype from `float` to `np.floating` is deprecated. In future, it will be treated as `np.float64 == np.dtype(float).type`.\n",
      "  from ._conv import register_converters as _register_converters\n"
     ]
    }
   ],
   "source": [
    "import tensorflow as tf"
   ]
  },
  {
   "cell_type": "code",
   "execution_count": null,
   "metadata": {
    "collapsed": false
   },
   "outputs": [],
   "source": []
  },
  {
   "cell_type": "code",
   "execution_count": 2,
   "metadata": {
    "collapsed": false
   },
   "outputs": [],
   "source": [
    "import csv\n",
    "\n",
    "def create_label_dict():\n",
    "    labels = {}\n",
    "    with open('trainLabels.csv') as csvfile:\n",
    "        readCSV = csv.reader(csvfile, delimiter=',')\n",
    "        for row in readCSV:\n",
    "            if row[0] != 'Id':\n",
    "                labels[row[0].replace(\"\\'\",\"\")] = int(row[1])\n",
    "    return labels\n",
    "\n"
   ]
  },
  {
   "cell_type": "code",
   "execution_count": 3,
   "metadata": {
    "collapsed": false
   },
   "outputs": [],
   "source": [
    "import numpy as np\n",
    "import math\n",
    "import os\n",
    "from PIL import Image\n",
    "\n",
    "path = '/Users/esteban/malware-data/data'\n",
    "\n",
    "def generate_images(size,extension, save_path):\n",
    "    directory = os.listdir(path)\n",
    "    for x in directory:\n",
    "        digits = [] \n",
    "        if x.endswith('.bytes'):\n",
    "            full_path = os.path.join(path, x)\n",
    "            with open(full_path) as f:\n",
    "                for line in f:\n",
    "                    l = line.split()\n",
    "                    a = l[1:]\n",
    "                \n",
    "                    for c in a:\n",
    "                        if c != '??':\n",
    "                            bin = int(c,16)\n",
    "                            digits.append(bin)\n",
    "                        else:\n",
    "                            digits.append(0)\n",
    "        \n",
    "            #---create array from digits list\n",
    "            larray = np.asarray(digits)\n",
    "\n",
    "            #---determines number of coordinates of array/ finds the square and rounds up/ reshapes the dimensions\n",
    "            length = len(larray)       \n",
    "            q = math.sqrt(length)\n",
    "            dim = math.ceil(q)\n",
    "            shape = (dim, dim)\n",
    "            larray.resize(shape)\n",
    "            #print(larray.shape)\n",
    "        \n",
    "            #--normalize matrix\n",
    "            normalized = (larray-np.min(larray)) / (np.max(larray)-np.min(larray))         \n",
    "        \n",
    "            #--create an image using pillows library\n",
    "            img = Image.fromarray(normalized)\n",
    "        \n",
    "            #--create 28x28 image- sav\n",
    "            img_name = (str(x[0:20]) + extension + '.tiff')\n",
    "            img = img.resize((size, size), Image.ANTIALIAS)\n",
    "            img.save(os.path.join(save_path, img_name))\n",
    "        "
   ]
  },
  {
   "cell_type": "code",
   "execution_count": 4,
   "metadata": {
    "collapsed": false
   },
   "outputs": [],
   "source": [
    "generate_images(28,'_28x28', '/Users/esteban/malware-data/data/28x28')\n"
   ]
  },
  {
   "cell_type": "code",
   "execution_count": 5,
   "metadata": {
    "collapsed": true
   },
   "outputs": [],
   "source": [
    "generate_images(224,'_224x224', '/Users/esteban/malware-data/data/224x224')"
   ]
  },
  {
   "cell_type": "code",
   "execution_count": 6,
   "metadata": {
    "collapsed": true
   },
   "outputs": [],
   "source": [
    "generate_images(1000,'_1000x1000', '/Users/esteban/malware-data/data/1000x1000')"
   ]
  },
  {
   "cell_type": "code",
   "execution_count": 7,
   "metadata": {
    "collapsed": true
   },
   "outputs": [],
   "source": [
    "def extract_file_name(path_to_file):\n",
    "    base_name = os.path.basename(path_to_file)\n",
    "    return base_name[:20]"
   ]
  },
  {
   "cell_type": "code",
   "execution_count": 8,
   "metadata": {
    "collapsed": true
   },
   "outputs": [],
   "source": [
    "from random import shuffle\n",
    "import glob\n",
    "shuffle_data = True  # shuffle the addresses before saving\n",
    "image_path = '/Users/esteban/malware-data/data/224x224/*.tiff'\n",
    "\n",
    "label_dict = create_label_dict()\n",
    "# read addresses and labels from the 'train' folder\n",
    "addrs = glob.glob(image_path)\n",
    "labels = [label_dict[extract_file_name(addr)] for addr in addrs]  \n",
    "# to shuffle data\n",
    "if shuffle_data:\n",
    "    c = list(zip(addrs, labels))\n",
    "    shuffle(c)\n",
    "    addrs, labels = zip(*c)\n",
    "    \n",
    "# Divide the hata into 60% train, 20% validation, and 20% test\n",
    "train_addrs = addrs[0:int(1.0*len(addrs))]\n",
    "train_labels = labels[0:int(1.0*len(labels))]\n",
    "#val_addrs = addrs[int(0.6*len(addrs)):int(0.8*len(addrs))]\n",
    "#val_labels = labels[int(0.6*len(addrs)):int(0.8*len(addrs))]\n",
    "#test_addrs = addrs[int(0.8*len(addrs)):]\n",
    "#test_labels = labels[int(0.8*len(labels)):]"
   ]
  },
  {
   "cell_type": "code",
   "execution_count": 9,
   "metadata": {
    "collapsed": false
   },
   "outputs": [
    {
     "name": "stdout",
     "output_type": "stream",
     "text": [
      "0A32eTdBKayjCWhZqDOQ\n"
     ]
    }
   ],
   "source": [
    "print (extract_file_name('/Users/esteban/malware-data/data/224x224/0A32eTdBKayjCWhZqDOQ_224x224.tiff'))"
   ]
  },
  {
   "cell_type": "code",
   "execution_count": 10,
   "metadata": {
    "collapsed": false
   },
   "outputs": [
    {
     "name": "stdout",
     "output_type": "stream",
     "text": [
      "(2, 7)\n"
     ]
    }
   ],
   "source": [
    "print(labels)"
   ]
  },
  {
   "cell_type": "code",
   "execution_count": 11,
   "metadata": {
    "collapsed": false
   },
   "outputs": [
    {
     "name": "stdout",
     "output_type": "stream",
     "text": [
      "('/Users/esteban/malware-data/data/224x224/0A32eTdBKayjCWhZqDOQ_224x224.tiff', '/Users/esteban/malware-data/data/224x224/0ACDbR5M3ZhBJajygTuf_224x224.tiff')\n"
     ]
    }
   ],
   "source": [
    "print(train_addrs)"
   ]
  },
  {
   "cell_type": "code",
   "execution_count": 32,
   "metadata": {
    "collapsed": false
   },
   "outputs": [],
   "source": [
    "import cv2\n",
    "from matplotlib import pyplot as plt\n",
    "\n",
    "def load_image(addr):\n",
    "    \n",
    "    # read an image and resize to (224, 224)\n",
    "    # cv2 load images as BGR, convert it to RGB\n",
    "    img = cv2.imread(addr,-1)\n",
    "    \n",
    "    img = cv2.resize(img, (224, 224), interpolation=cv2.INTER_CUBIC)\n",
    "    img = img.astype(np.float32)\n",
    "    \n",
    "    return img"
   ]
  },
  {
   "cell_type": "code",
   "execution_count": 33,
   "metadata": {
    "collapsed": false
   },
   "outputs": [],
   "source": [
    "\n",
    "def _int64_feature(value):\n",
    "  return tf.train.Feature(int64_list=tf.train.Int64List(value=[value]))\n",
    "def _bytes_feature(value):\n",
    "  return tf.train.Feature(bytes_list=tf.train.BytesList(value=[value]))"
   ]
  },
  {
   "cell_type": "code",
   "execution_count": 34,
   "metadata": {
    "collapsed": false
   },
   "outputs": [
    {
     "name": "stdout",
     "output_type": "stream",
     "text": [
      "Train data: 0/2\n"
     ]
    }
   ],
   "source": [
    "import sys\n",
    "\n",
    "train_filename = 'train.tfrecords'  # address to save the TFRecords file\n",
    "# open the TFRecords file\n",
    "writer = tf.python_io.TFRecordWriter(train_filename)\n",
    "for i in range(len(train_addrs)):\n",
    "    # print how many images are saved every 1000 images\n",
    "    if not i % 1000:\n",
    "        print ('Train data: {}/{}'.format(i, len(train_addrs)))\n",
    "        sys.stdout.flush()\n",
    "    # Load the image\n",
    "    img = load_image(train_addrs[i])\n",
    "    label = train_labels[i]\n",
    "    # Create a feature\n",
    "    feature = {'train/label': _int64_feature(label),\n",
    "               'train/image': _bytes_feature(tf.compat.as_bytes(img.tostring()))}\n",
    "    # Create an example protocol buffer\n",
    "    example = tf.train.Example(features=tf.train.Features(feature=feature))\n",
    "    \n",
    "    # Serialize to string and write on the file\n",
    "    writer.write(example.SerializeToString())\n",
    "    \n",
    "writer.close()\n",
    "sys.stdout.flush()"
   ]
  },
  {
   "cell_type": "code",
   "execution_count": 40,
   "metadata": {
    "collapsed": false
   },
   "outputs": [
    {
     "name": "stdout",
     "output_type": "stream",
     "text": [
      "[7]\n"
     ]
    }
   ],
   "source": [
    "import tensorflow as tf\n",
    "import numpy as np\n",
    "import matplotlib.pyplot as plt\n",
    "data_path = 'train.tfrecords'  # address to save the hdf5 file\n",
    "with tf.Session() as sess:\n",
    "   \n",
    "    feature = {'train/image': tf.FixedLenFeature([], tf.string),\n",
    "               'train/label': tf.FixedLenFeature([], tf.int64)}\n",
    "    # Create a list of filenames and pass it to a queue\n",
    "    filename_queue = tf.train.string_input_producer([data_path], num_epochs=4)\n",
    "    # Define a reader and read the next record\n",
    "    reader = tf.TFRecordReader()\n",
    "    _, serialized_example = reader.read(filename_queue)\n",
    "    # Decode the record read by the reader\n",
    "    features = tf.parse_single_example(serialized_example, features=feature)\n",
    "    # Convert the image data from string back to the numbers\n",
    "    image = tf.decode_raw(features['train/image'], tf.float32)\n",
    "    \n",
    "    # Cast label data into int32\n",
    "    label = tf.cast(features['train/label'], tf.int32)\n",
    "    # Reshape image data into the original shape\n",
    "    image = tf.reshape(image, [224, 224, 1])\n",
    "    \n",
    "    \n",
    "    # Any preprocessing here ...\n",
    "   \n",
    "    \n",
    "    # Creates batches by randomly shuffling tensors\n",
    "    images, labels = tf.train.shuffle_batch([image, label], batch_size=1, capacity=30, num_threads=1, min_after_dequeue=10)\n",
    "    \n",
    "    # Initialize all global and local variables\n",
    "    init_op = tf.group(tf.global_variables_initializer(), tf.local_variables_initializer())\n",
    "    sess.run(init_op)\n",
    "    # Create a coordinator and run all QueueRunner objects\n",
    "    coord = tf.train.Coordinator()\n",
    "    threads = tf.train.start_queue_runners(coord=coord)\n",
    "    for batch_index in range(1):\n",
    "        img, lbl = sess.run([images, labels])\n",
    "        print (lbl)\n",
    "        \n",
    "    # Stop the threads\n",
    "    coord.request_stop()\n",
    "    \n",
    "    # Wait for threads to stop\n",
    "    coord.join(threads)\n",
    "    sess.close()"
   ]
  },
  {
   "cell_type": "code",
   "execution_count": null,
   "metadata": {
    "collapsed": true
   },
   "outputs": [],
   "source": []
  },
  {
   "cell_type": "code",
   "execution_count": null,
   "metadata": {
    "collapsed": true
   },
   "outputs": [],
   "source": []
  }
 ],
 "metadata": {
  "kernelspec": {
   "display_name": "Python 3",
   "language": "python",
   "name": "python3"
  },
  "language_info": {
   "codemirror_mode": {
    "name": "ipython",
    "version": 3
   },
   "file_extension": ".py",
   "mimetype": "text/x-python",
   "name": "python",
   "nbconvert_exporter": "python",
   "pygments_lexer": "ipython3",
   "version": "3.5.2"
  }
 },
 "nbformat": 4,
 "nbformat_minor": 0
}
